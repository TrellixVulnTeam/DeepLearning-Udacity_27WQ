{
 "cells": [
  {
   "cell_type": "markdown",
   "metadata": {
    "collapsed": true,
    "deletable": true,
    "editable": true
   },
   "source": [
    "# Image Classification\n",
    "In this project, you'll classify images from the [CIFAR-10 dataset](https://www.cs.toronto.edu/~kriz/cifar.html).  The dataset consists of airplanes, dogs, cats, and other objects. You'll preprocess the images, then train a convolutional neural network on all the samples. The images need to be normalized and the labels need to be one-hot encoded.  You'll get to apply what you learned and build a convolutional, max pooling, dropout, and fully connected layers.  At the end, you'll get to see your neural network's predictions on the sample images.\n",
    "## Get the Data\n",
    "Run the following cell to download the [CIFAR-10 dataset for python](https://www.cs.toronto.edu/~kriz/cifar-10-python.tar.gz)."
   ]
  },
  {
   "cell_type": "code",
   "execution_count": 1,
   "metadata": {
    "collapsed": false,
    "deletable": true,
    "editable": true
   },
   "outputs": [
    {
     "name": "stdout",
     "output_type": "stream",
     "text": [
      "All files found!\n"
     ]
    }
   ],
   "source": [
    "\"\"\"\n",
    "DON'T MODIFY ANYTHING IN THIS CELL THAT IS BELOW THIS LINE\n",
    "\"\"\"\n",
    "from urllib.request import urlretrieve\n",
    "from os.path import isfile, isdir\n",
    "from tqdm import tqdm\n",
    "import problem_unittests as tests\n",
    "import tarfile\n",
    "\n",
    "cifar10_dataset_folder_path = 'cifar-10-batches-py'\n",
    "\n",
    "# Use Floyd's cifar-10 dataset if present\n",
    "floyd_cifar10_location = '/input/cifar-10/python.tar.gz'\n",
    "if isfile(floyd_cifar10_location):\n",
    "    tar_gz_path = floyd_cifar10_location\n",
    "else:\n",
    "    tar_gz_path = 'cifar-10-python.tar.gz'\n",
    "\n",
    "class DLProgress(tqdm):\n",
    "    last_block = 0\n",
    "\n",
    "    def hook(self, block_num=1, block_size=1, total_size=None):\n",
    "        self.total = total_size\n",
    "        self.update((block_num - self.last_block) * block_size)\n",
    "        self.last_block = block_num\n",
    "\n",
    "if not isfile(tar_gz_path):\n",
    "    with DLProgress(unit='B', unit_scale=True, miniters=1, desc='CIFAR-10 Dataset') as pbar:\n",
    "        urlretrieve(\n",
    "            'https://www.cs.toronto.edu/~kriz/cifar-10-python.tar.gz',\n",
    "            tar_gz_path,\n",
    "            pbar.hook)\n",
    "\n",
    "if not isdir(cifar10_dataset_folder_path):\n",
    "    with tarfile.open(tar_gz_path) as tar:\n",
    "        tar.extractall()\n",
    "        tar.close()\n",
    "\n",
    "\n",
    "tests.test_folder_path(cifar10_dataset_folder_path)"
   ]
  },
  {
   "cell_type": "markdown",
   "metadata": {
    "deletable": true,
    "editable": true
   },
   "source": [
    "## Explore the Data\n",
    "The dataset is broken into batches to prevent your machine from running out of memory.  The CIFAR-10 dataset consists of 5 batches, named `data_batch_1`, `data_batch_2`, etc.. Each batch contains the labels and images that are one of the following:\n",
    "* airplane\n",
    "* automobile\n",
    "* bird\n",
    "* cat\n",
    "* deer\n",
    "* dog\n",
    "* frog\n",
    "* horse\n",
    "* ship\n",
    "* truck\n",
    "\n",
    "Understanding a dataset is part of making predictions on the data.  Play around with the code cell below by changing the `batch_id` and `sample_id`. The `batch_id` is the id for a batch (1-5). The `sample_id` is the id for a image and label pair in the batch.\n",
    "\n",
    "Ask yourself \"What are all possible labels?\", \"What is the range of values for the image data?\", \"Are the labels in order or random?\".  Answers to questions like these will help you preprocess the data and end up with better predictions."
   ]
  },
  {
   "cell_type": "code",
   "execution_count": 2,
   "metadata": {
    "collapsed": false,
    "deletable": true,
    "editable": true
   },
   "outputs": [
    {
     "name": "stdout",
     "output_type": "stream",
     "text": [
      "\n",
      "Stats of batch 1:\n",
      "Samples: 10000\n",
      "Label Counts: {0: 1005, 1: 974, 2: 1032, 3: 1016, 4: 999, 5: 937, 6: 1030, 7: 1001, 8: 1025, 9: 981}\n",
      "First 20 Labels: [6, 9, 9, 4, 1, 1, 2, 7, 8, 3, 4, 7, 7, 2, 9, 9, 9, 3, 2, 6]\n",
      "\n",
      "Example of Image 5:\n",
      "Image - Min Value: 0 Max Value: 252\n",
      "Image - Shape: (32, 32, 3)\n",
      "Label - Label Id: 1 Name: automobile\n"
     ]
    },
    {
     "data": {
      "image/png": "[encoded data removed]",
      "text/plain": [
       "<matplotlib.figure.Figure at 0x7fbcb1b17828>"
      ]
     },
     "metadata": {
      "image/png": {
       "height": 250,
       "width": 253
      }
     },
     "output_type": "display_data"
    }
   ],
   "source": [
    "%matplotlib inline\n",
    "%config InlineBackend.figure_format = 'retina'\n",
    "\n",
    "import helper\n",
    "import numpy as np\n",
    "\n",
    "# Explore the dataset\n",
    "batch_id = 1\n",
    "sample_id = 5\n",
    "helper.display_stats(cifar10_dataset_folder_path, batch_id, sample_id)"
   ]
  },
  {
   "cell_type": "markdown",
   "metadata": {
    "deletable": true,
    "editable": true
   },
   "source": [
    "## Implement Preprocess Functions\n",
    "### Normalize\n",
    "In the cell below, implement the `normalize` function to take in image data, `x`, and return it as a normalized Numpy array. The values should be in the range of 0 to 1, inclusive.  The return object should be the same shape as `x`."
   ]
  },
  {
   "cell_type": "code",
   "execution_count": 3,
   "metadata": {
    "collapsed": false,
    "deletable": true,
    "editable": true
   },
   "outputs": [
    {
     "name": "stdout",
     "output_type": "stream",
     "text": [
      "Tests Passed\n"
     ]
    }
   ],
   "source": [
    "def normalize(x):\n",
    "    \"\"\"\n",
    "    Normalize a list of sample image data in the range of 0 to 1\n",
    "    : x: List of image data.  The image shape is (32, 32, 3)\n",
    "    : return: Numpy array of normalize data\n",
    "    \"\"\"\n",
    "    # TODO: Implement Function\n",
    "    value = np.max(x)-np.min(x)\n",
    "    return (x-np.min(x))/value\n",
    "\n",
    "\n",
    "\"\"\"\n",
    "DON'T MODIFY ANYTHING IN THIS CELL THAT IS BELOW THIS LINE\n",
    "\"\"\"\n",
    "tests.test_normalize(normalize)"
   ]
  },
  {
   "cell_type": "markdown",
   "metadata": {
    "deletable": true,
    "editable": true
   },
   "source": [
    "### One-hot encode\n",
    "Just like the previous code cell, you'll be implementing a function for preprocessing.  This time, you'll implement the `one_hot_encode` function. The input, `x`, are a list of labels.  Implement the function to return the list of labels as One-Hot encoded Numpy array.  The possible values for labels are 0 to 9. The one-hot encoding function should return the same encoding for each value between each call to `one_hot_encode`.  Make sure to save the map of encodings outside the function.\n",
    "\n",
    "Hint: Don't reinvent the wheel."
   ]
  },
  {
   "cell_type": "code",
   "execution_count": 4,
   "metadata": {
    "collapsed": false,
    "deletable": true,
    "editable": true
   },
   "outputs": [
    {
     "name": "stdout",
     "output_type": "stream",
     "text": [
      "Tests Passed\n"
     ]
    }
   ],
   "source": [
    "def one_hot_encode(x):\n",
    "    \"\"\"\n",
    "    One hot encode a list of sample labels. Return a one-hot encoded vector for each label.\n",
    "    : x: List of sample Labels\n",
    "    : return: Numpy array of one-hot encoded labels\n",
    "    \"\"\"\n",
    "    # TODO: Implement Function\n",
    "    from sklearn import preprocessing\n",
    "    labels = np.array(x)\n",
    "    lb = preprocessing.LabelBinarizer()\n",
    "    lb.fit(range(10))\n",
    "    global final_array\n",
    "    final_array = lb.transform(labels)\n",
    "    return final_array\n",
    "\n",
    "\n",
    "\"\"\"\n",
    "DON'T MODIFY ANYTHING IN THIS CELL THAT IS BELOW THIS LINE\n",
    "\"\"\"\n",
    "tests.test_one_hot_encode(one_hot_encode)"
   ]
  },
  {
   "cell_type": "markdown",
   "metadata": {
    "deletable": true,
    "editable": true
   },
   "source": [
    "### Randomize Data\n",
    "As you saw from exploring the data above, the order of the samples are randomized.  It doesn't hurt to randomize it again, but you don't need to for this dataset."
   ]
  },
  {
   "cell_type": "markdown",
   "metadata": {
    "deletable": true,
    "editable": true
   },
   "source": [
    "## Preprocess all the data and save it\n",
    "Running the code cell below will preprocess all the CIFAR-10 data and save it to file. The code below also uses 10% of the training data for validation."
   ]
  },
  {
   "cell_type": "code",
   "execution_count": 5,
   "metadata": {
    "collapsed": false,
    "deletable": true,
    "editable": true
   },
   "outputs": [],
   "source": [
    "\"\"\"\n",
    "DON'T MODIFY ANYTHING IN THIS CELL\n",
    "\"\"\"\n",
    "# Preprocess Training, Validation, and Testing Data\n",
    "helper.preprocess_and_save_data(cifar10_dataset_folder_path, normalize, one_hot_encode)"
   ]
  },
  {
   "cell_type": "markdown",
   "metadata": {
    "deletable": true,
    "editable": true
   },
   "source": [
    "# Check Point\n",
    "This is your first checkpoint.  If you ever decide to come back to this notebook or have to restart the notebook, you can start from here.  The preprocessed data has been saved to disk."
   ]
  },
  {
   "cell_type": "code",
   "execution_count": 6,
   "metadata": {
    "collapsed": true,
    "deletable": true,
    "editable": true
   },
   "outputs": [],
   "source": [
    "\"\"\"\n",
    "DON'T MODIFY ANYTHING IN THIS CELL\n",
    "\"\"\"\n",
    "import pickle\n",
    "import problem_unittests as tests\n",
    "import helper\n",
    "\n",
    "# Load the Preprocessed Validation data\n",
    "valid_features, valid_labels = pickle.load(open('preprocess_validation.p', mode='rb'))"
   ]
  },
  {
   "cell_type": "markdown",
   "metadata": {
    "deletable": true,
    "editable": true
   },
   "source": [
    "## Build the network\n",
    "For the neural network, you'll build each layer into a function.  Most of the code you've seen has been outside of functions. To test your code more thoroughly, we require that you put each layer in a function.  This allows us to give you better feedback and test for simple mistakes using our unittests before you submit your project.\n",
    "\n",
    ">**Note:** If you're finding it hard to dedicate enough time for this course each week, we've provided a small shortcut to this part of the project. In the next couple of problems, you'll have the option to use classes from the [TensorFlow Layers](https://www.tensorflow.org/api_docs/python/tf/layers) or [TensorFlow Layers (contrib)](https://www.tensorflow.org/api_guides/python/contrib.layers) packages to build each layer, except the layers you build in the \"Convolutional and Max Pooling Layer\" section.  TF Layers is similar to Keras's and TFLearn's abstraction to layers, so it's easy to pickup.\n",
    "\n",
    ">However, if you would like to get the most out of this course, try to solve all the problems _without_ using anything from the TF Layers packages. You **can** still use classes from other packages that happen to have the same name as ones you find in TF Layers! For example, instead of using the TF Layers version of the `conv2d` class, [tf.layers.conv2d](https://www.tensorflow.org/api_docs/python/tf/layers/conv2d), you would want to use the TF Neural Network version of `conv2d`, [tf.nn.conv2d](https://www.tensorflow.org/api_docs/python/tf/nn/conv2d). \n",
    "\n",
    "Let's begin!\n",
    "\n",
    "### Input\n",
    "The neural network needs to read the image data, one-hot encoded labels, and dropout keep probability. Implement the following functions\n",
    "* Implement `neural_net_image_input`\n",
    " * Return a [TF Placeholder](https://www.tensorflow.org/api_docs/python/tf/placeholder)\n",
    " * Set the shape using `image_shape` with batch size set to `None`.\n",
    " * Name the TensorFlow placeholder \"x\" using the TensorFlow `name` parameter in the [TF Placeholder](https://www.tensorflow.org/api_docs/python/tf/placeholder).\n",
    "* Implement `neural_net_label_input`\n",
    " * Return a [TF Placeholder](https://www.tensorflow.org/api_docs/python/tf/placeholder)\n",
    " * Set the shape using `n_classes` with batch size set to `None`.\n",
    " * Name the TensorFlow placeholder \"y\" using the TensorFlow `name` parameter in the [TF Placeholder](https://www.tensorflow.org/api_docs/python/tf/placeholder).\n",
    "* Implement `neural_net_keep_prob_input`\n",
    " * Return a [TF Placeholder](https://www.tensorflow.org/api_docs/python/tf/placeholder) for dropout keep probability.\n",
    " * Name the TensorFlow placeholder \"keep_prob\" using the TensorFlow `name` parameter in the [TF Placeholder](https://www.tensorflow.org/api_docs/python/tf/placeholder).\n",
    "\n",
    "These names will be used at the end of the project to load your saved model.\n",
    "\n",
    "Note: `None` for shapes in TensorFlow allow for a dynamic size."
   ]
  },
  {
   "cell_type": "code",
   "execution_count": 7,
   "metadata": {
    "collapsed": false,
    "deletable": true,
    "editable": true
   },
   "outputs": [
    {
     "name": "stdout",
     "output_type": "stream",
     "text": [
      "Image Input Tests Passed.\n",
      "Label Input Tests Passed.\n",
      "Keep Prob Tests Passed.\n"
     ]
    }
   ],
   "source": [
    "import tensorflow as tf\n",
    "\n",
    "def neural_net_image_input(image_shape):\n",
    "    \"\"\"\n",
    "    Return a Tensor for a batch of image input\n",
    "    : image_shape: Shape of the images\n",
    "    : return: Tensor for image input.\n",
    "    \"\"\"\n",
    "    # TODO: Implement Function\n",
    "    return tf.placeholder(tf.float32,shape= [None,image_shape[0],image_shape[1],image_shape[2]],name=\"x\")\n",
    "\n",
    "\n",
    "\n",
    "def neural_net_label_input(n_classes):\n",
    "    \"\"\"\n",
    "    Return a Tensor for a batch of label input\n",
    "    : n_classes: Number of classes\n",
    "    : return: Tensor for label input.\n",
    "    \"\"\"\n",
    "    # TODO: Implement Function\n",
    "    return tf.placeholder(tf.float32, shape=[None, n_classes], name=\"y\")\n",
    "\n",
    "\n",
    "\n",
    "\n",
    "def neural_net_keep_prob_input():\n",
    "    \"\"\"\n",
    "    Return a Tensor for keep probability\n",
    "    : return: Tensor for keep probability.\n",
    "    \"\"\"\n",
    "    # TODO: Implement Function\n",
    "    return tf.placeholder(tf.float32, name=\"keep_prob\")\n",
    "\n",
    "\n",
    "\"\"\"\n",
    "DON'T MODIFY ANYTHING IN THIS CELL THAT IS BELOW THIS LINE\n",
    "\"\"\"\n",
    "tf.reset_default_graph()\n",
    "tests.test_nn_image_inputs(neural_net_image_input)\n",
    "tests.test_nn_label_inputs(neural_net_label_input)\n",
    "tests.test_nn_keep_prob_inputs(neural_net_keep_prob_input)"
   ]
  },
  {
   "cell_type": "markdown",
   "metadata": {
    "deletable": true,
    "editable": true
   },
   "source": [
    "### Convolution and Max Pooling Layer\n",
    "Convolution layers have a lot of success with images. For this code cell, you should implement the function `conv2d_maxpool` to apply convolution then max pooling:\n",
    "* Create the weight and bias using `conv_ksize`, `conv_num_outputs` and the shape of `x_tensor`.\n",
    "* Apply a convolution to `x_tensor` using weight and `conv_strides`.\n",
    " * We recommend you use same padding, but you're welcome to use any padding.\n",
    "* Add bias\n",
    "* Add a nonlinear activation to the convolution.\n",
    "* Apply Max Pooling using `pool_ksize` and `pool_strides`.\n",
    " * We recommend you use same padding, but you're welcome to use any padding.\n",
    "\n",
    "**Note:** You **can't** use [TensorFlow Layers](https://www.tensorflow.org/api_docs/python/tf/layers) or [TensorFlow Layers (contrib)](https://www.tensorflow.org/api_guides/python/contrib.layers) for **this** layer, but you can still use TensorFlow's [Neural Network](https://www.tensorflow.org/api_docs/python/tf/nn) package. You may still use the shortcut option for all the **other** layers."
   ]
  },
  {
   "cell_type": "code",
   "execution_count": 8,
   "metadata": {
    "collapsed": false,
    "deletable": true,
    "editable": true
   },
   "outputs": [
    {
     "name": "stdout",
     "output_type": "stream",
     "text": [
      "Tests Passed\n"
     ]
    }
   ],
   "source": [
    "def conv2d_maxpool(x_tensor, conv_num_outputs, conv_ksize, conv_strides, pool_ksize, pool_strides):\n",
    "    \"\"\"\n",
    "    Apply convolution then max pooling to x_tensor\n",
    "    :param x_tensor: TensorFlow Tensor\n",
    "    :param conv_num_outputs: Number of outputs for the convolutional layer\n",
    "    :param conv_ksize: kernal size 2-D Tuple for the convolutional layer\n",
    "    :param conv_strides: Stride 2-D Tuple for convolution\n",
    "    :param pool_ksize: kernal size 2-D Tuple for pool\n",
    "    :param pool_strides: Stride 2-D Tuple for pool\n",
    "    : return: A tensor that represents convolution and max pooling of x_tensor\n",
    "    \"\"\"\n",
    "    # TODO: Implement Function\n",
    "    weights = tf.Variable(tf.truncated_normal([conv_ksize[0],conv_ksize[1],x_tensor.get_shape().as_list()[3],conv_num_outputs],stddev=0.1))\n",
    "    bias = tf.Variable(tf.zeros(conv_num_outputs), tf.float32)\n",
    "    convFunc = tf.nn.conv2d(x_tensor, weights, [1,*conv_strides,1], 'VALID')\n",
    "    convFunc = tf.nn.bias_add(convFunc, bias)\n",
    "    convFunc = tf.nn.relu(convFunc)\n",
    "    out = tf.nn.max_pool(convFunc, [1,*pool_ksize,1], [1,*pool_strides,1], 'VALID')\n",
    "    return out\n",
    "\n",
    "\n",
    "\"\"\"\n",
    "DON'T MODIFY ANYTHING IN THIS CELL THAT IS BELOW THIS LINE\n",
    "\"\"\"\n",
    "tests.test_con_pool(conv2d_maxpool)"
   ]
  },
  {
   "cell_type": "markdown",
   "metadata": {
    "deletable": true,
    "editable": true
   },
   "source": [
    "### Flatten Layer\n",
    "Implement the `flatten` function to change the dimension of `x_tensor` from a 4-D tensor to a 2-D tensor.  The output should be the shape (*Batch Size*, *Flattened Image Size*). Shortcut option: you can use classes from the [TensorFlow Layers](https://www.tensorflow.org/api_docs/python/tf/layers) or [TensorFlow Layers (contrib)](https://www.tensorflow.org/api_guides/python/contrib.layers) packages for this layer. For more of a challenge, only use other TensorFlow packages."
   ]
  },
  {
   "cell_type": "code",
   "execution_count": 9,
   "metadata": {
    "collapsed": false,
    "deletable": true,
    "editable": true
   },
   "outputs": [
    {
     "name": "stdout",
     "output_type": "stream",
     "text": [
      "Tests Passed\n"
     ]
    }
   ],
   "source": [
    "def flatten(x_tensor):\n",
    "    \"\"\"\n",
    "    Flatten x_tensor to (Batch Size, Flattened Image Size)\n",
    "    : x_tensor: A tensor of size (Batch Size, ...), where ... are the image dimensions.\n",
    "    : return: A tensor of size (Batch Size, Flattened Image Size).\n",
    "    \"\"\"\n",
    "    # TODO: Implement Function\n",
    "    temp = x_tensor.get_shape().as_list()\n",
    "    #print(temp)\n",
    "    return tf.reshape(x_tensor,[-1,temp[1]*temp[2]*temp[3]])\n",
    "\n",
    "\n",
    "\"\"\"\n",
    "DON'T MODIFY ANYTHING IN THIS CELL THAT IS BELOW THIS LINE\n",
    "\"\"\"\n",
    "tests.test_flatten(flatten)"
   ]
  },
  {
   "cell_type": "markdown",
   "metadata": {
    "deletable": true,
    "editable": true
   },
   "source": [
    "### Fully-Connected Layer\n",
    "Implement the `fully_conn` function to apply a fully connected layer to `x_tensor` with the shape (*Batch Size*, *num_outputs*). Shortcut option: you can use classes from the [TensorFlow Layers](https://www.tensorflow.org/api_docs/python/tf/layers) or [TensorFlow Layers (contrib)](https://www.tensorflow.org/api_guides/python/contrib.layers) packages for this layer. For more of a challenge, only use other TensorFlow packages."
   ]
  },
  {
   "cell_type": "code",
   "execution_count": 10,
   "metadata": {
    "collapsed": false,
    "deletable": true,
    "editable": true
   },
   "outputs": [
    {
     "name": "stdout",
     "output_type": "stream",
     "text": [
      "[None, 128]\n",
      "Tests Passed\n"
     ]
    }
   ],
   "source": [
    "def fully_conn(x_tensor, num_outputs):\n",
    "    \"\"\"\n",
    "    Apply a fully connected layer to x_tensor using weight and bias\n",
    "    : x_tensor: A 2-D tensor where the first dimension is batch size.\n",
    "    : num_outputs: The number of output that the new tensor should be.\n",
    "    : return: A 2-D tensor where the second dimension is num_outputs.\n",
    "    \"\"\"\n",
    "    # TODO: Implement Function\n",
    "    temp = x_tensor.get_shape().as_list()\n",
    "    batch = temp[0]\n",
    "    number_inputs = temp[1]\n",
    "    print (temp)\n",
    "    W=tf.Variable(tf.truncated_normal([number_inputs, num_outputs],stddev=0.1))\n",
    "    b = tf.Variable(tf.zeros(num_outputs))\n",
    "    convFunc = tf.add(tf.matmul(x_tensor, W), b)\n",
    "    convFunc = tf.nn.relu(convFunc)\n",
    "    return convFunc\n",
    "\n",
    "\n",
    "\"\"\"\n",
    "DON'T MODIFY ANYTHING IN THIS CELL THAT IS BELOW THIS LINE\n",
    "\"\"\"\n",
    "tests.test_fully_conn(fully_conn)"
   ]
  },
  {
   "cell_type": "markdown",
   "metadata": {
    "deletable": true,
    "editable": true
   },
   "source": [
    "### Output Layer\n",
    "Implement the `output` function to apply a fully connected layer to `x_tensor` with the shape (*Batch Size*, *num_outputs*). Shortcut option: you can use classes from the [TensorFlow Layers](https://www.tensorflow.org/api_docs/python/tf/layers) or [TensorFlow Layers (contrib)](https://www.tensorflow.org/api_guides/python/contrib.layers) packages for this layer. For more of a challenge, only use other TensorFlow packages.\n",
    "\n",
    "**Note:** Activation, softmax, or cross entropy should **not** be applied to this."
   ]
  },
  {
   "cell_type": "code",
   "execution_count": 11,
   "metadata": {
    "collapsed": false,
    "deletable": true,
    "editable": true
   },
   "outputs": [
    {
     "name": "stdout",
     "output_type": "stream",
     "text": [
      "Tests Passed\n"
     ]
    }
   ],
   "source": [
    "def output(x_tensor, num_outputs):\n",
    "    \"\"\"\n",
    "    Apply a output layer to x_tensor using weight and bias\n",
    "    : x_tensor: A 2-D tensor where the first dimension is batch size.\n",
    "    : num_outputs: The number of output that the new tensor should be.\n",
    "    : return: A 2-D tensor where the second dimension is num_outputs.\n",
    "    \"\"\"\n",
    "    # TODO: Implement Function\n",
    "    temp = x_tensor.get_shape().as_list()\n",
    "    number_inputs = temp[1]\n",
    "    W=tf.Variable(tf.truncated_normal([number_inputs, num_outputs],stddev=0.1))\n",
    "    b = tf.Variable(tf.zeros(num_outputs))\n",
    "    convFunc = tf.add(tf.matmul(x_tensor, W), b)\n",
    "    return convFunc\n",
    "\n",
    "\n",
    "\"\"\"\n",
    "DON'T MODIFY ANYTHING IN THIS CELL THAT IS BELOW THIS LINE\n",
    "\"\"\"\n",
    "tests.test_output(output)"
   ]
  },
  {
   "cell_type": "markdown",
   "metadata": {
    "deletable": true,
    "editable": true
   },
   "source": [
    "### Create Convolutional Model\n",
    "Implement the function `conv_net` to create a convolutional neural network model. The function takes in a batch of images, `x`, and outputs logits.  Use the layers you created above to create this model:\n",
    "\n",
    "* Apply 1, 2, or 3 Convolution and Max Pool layers\n",
    "* Apply a Flatten Layer\n",
    "* Apply 1, 2, or 3 Fully Connected Layers\n",
    "* Apply an Output Layer\n",
    "* Return the output\n",
    "* Apply [TensorFlow's Dropout](https://www.tensorflow.org/api_docs/python/tf/nn/dropout) to one or more layers in the model using `keep_prob`. "
   ]
  },
  {
   "cell_type": "code",
   "execution_count": 12,
   "metadata": {
    "collapsed": false,
    "deletable": true,
    "editable": true
   },
   "outputs": [
    {
     "name": "stdout",
     "output_type": "stream",
     "text": [
      "[None, 2304]\n",
      "[None, 10]\n",
      "[None, 10]\n",
      "[None, 2304]\n",
      "[None, 10]\n",
      "[None, 10]\n",
      "Neural Network Built!\n"
     ]
    }
   ],
   "source": [
    "def conv_net(x, keep_prob):\n",
    "    \"\"\"\n",
    "    Create a convolutional neural network model\n",
    "    : x: Placeholder tensor that holds image data.\n",
    "    : keep_prob: Placeholder tensor that hold dropout keep probability.\n",
    "    : return: Tensor that represents logits\n",
    "    \"\"\"\n",
    "    x_tensor = x\n",
    "    conv_num_outputs = 64\n",
    "    conv_ksize = (5,5)\n",
    "    conv_strides = (1,1)\n",
    "    pool_strides = (2,2)\n",
    "    pool_ksize = (2,2)\n",
    "    num_outputs = 10\n",
    "    \n",
    "    conv = conv2d_maxpool(x_tensor, conv_num_outputs, conv_ksize, conv_strides, pool_ksize, pool_strides)\n",
    "    \n",
    "    conv_num_outputs = 128\n",
    "    conv_ksize = (3,3)\n",
    "    conv_strides = (1,1)\n",
    "    pool_strides = (2,2)\n",
    "    pool_ksize = (2,2)\n",
    "    \n",
    "    conv = conv2d_maxpool(conv, conv_num_outputs, conv_ksize, conv_strides, pool_ksize, pool_strides)\n",
    "    \n",
    "    conv_num_outputs = 256\n",
    "    conv_ksize = (2,2)\n",
    "    conv_strides = (1,1)\n",
    "    pool_strides = (2,2)\n",
    "    pool_ksize = (1,1)\n",
    "    \n",
    "    conv = conv2d_maxpool(conv, conv_num_outputs, conv_ksize, conv_strides, pool_ksize, pool_strides)\n",
    "    \n",
    "\n",
    "    # TODO: Apply a Flatten Layer\n",
    "    # Function Definition from Above:\n",
    "    #   flatten(x_tensor)\n",
    "    conv = flatten (conv)\n",
    "\n",
    "    # TODO: Apply 1, 2, or 3 Fully Connected Layers\n",
    "    #    Play around with different number of outputs\n",
    "    # Function Definition from Above:\n",
    "    #   fully_conn(x_tensor, num_outputs)\n",
    "    \n",
    "    conv = fully_conn(conv, num_outputs)\n",
    "    conv=tf.nn.dropout(conv, keep_prob)\n",
    "    conv = fully_conn(conv, num_outputs)\n",
    "    conv = fully_conn(conv, num_outputs)\n",
    "    \n",
    "    # TODO: Apply an Output Layer\n",
    "    #    Set this to the number of classes\n",
    "    # Function Definition from Above:\n",
    "    #   output(x_tensor, num_outputs)\n",
    "    conv = output(conv, num_outputs)\n",
    "    \n",
    "    # TODO: return output\n",
    "    return conv\n",
    "\n",
    "\n",
    "\"\"\"\n",
    "DON'T MODIFY ANYTHING IN THIS CELL THAT IS BELOW THIS LINE\n",
    "\"\"\"\n",
    "\n",
    "##############################\n",
    "## Build the Neural Network ##\n",
    "##############################\n",
    "\n",
    "# Remove previous weights, bias, inputs, etc..\n",
    "tf.reset_default_graph()\n",
    "\n",
    "# Inputs\n",
    "x = neural_net_image_input((32, 32, 3))\n",
    "y = neural_net_label_input(10)\n",
    "keep_prob = neural_net_keep_prob_input()\n",
    "\n",
    "# Model\n",
    "logits = conv_net(x, keep_prob)\n",
    "\n",
    "# Name logits Tensor, so that is can be loaded from disk after training\n",
    "logits = tf.identity(logits, name='logits')\n",
    "\n",
    "# Loss and Optimizer\n",
    "cost = tf.reduce_mean(tf.nn.softmax_cross_entropy_with_logits(logits=logits, labels=y))\n",
    "optimizer = tf.train.AdamOptimizer().minimize(cost)\n",
    "\n",
    "# Accuracy\n",
    "correct_pred = tf.equal(tf.argmax(logits, 1), tf.argmax(y, 1))\n",
    "accuracy = tf.reduce_mean(tf.cast(correct_pred, tf.float32), name='accuracy')\n",
    "\n",
    "tests.test_conv_net(conv_net)"
   ]
  },
  {
   "cell_type": "markdown",
   "metadata": {
    "deletable": true,
    "editable": true
   },
   "source": [
    "## Train the Neural Network\n",
    "### Single Optimization\n",
    "Implement the function `train_neural_network` to do a single optimization.  The optimization should use `optimizer` to optimize in `session` with a `feed_dict` of the following:\n",
    "* `x` for image input\n",
    "* `y` for labels\n",
    "* `keep_prob` for keep probability for dropout\n",
    "\n",
    "This function will be called for each batch, so `tf.global_variables_initializer()` has already been called.\n",
    "\n",
    "Note: Nothing needs to be returned. This function is only optimizing the neural network."
   ]
  },
  {
   "cell_type": "code",
   "execution_count": 13,
   "metadata": {
    "collapsed": false,
    "deletable": true,
    "editable": true
   },
   "outputs": [
    {
     "name": "stdout",
     "output_type": "stream",
     "text": [
      "Tests Passed\n"
     ]
    }
   ],
   "source": [
    "def train_neural_network(session, optimizer, keep_probability, feature_batch, label_batch):\n",
    "    \"\"\"\n",
    "    Optimize the session on a batch of images and labels\n",
    "    : session: Current TensorFlow session\n",
    "    : optimizer: TensorFlow optimizer function\n",
    "    : keep_probability: keep probability\n",
    "    : feature_batch: Batch of Numpy image data\n",
    "    : label_batch: Batch of Numpy label data\n",
    "    \"\"\"\n",
    "    # TODO: Implement Function\n",
    "    session.run(optimizer, feed_dict={\n",
    "        x:feature_batch,\n",
    "        y:label_batch,\n",
    "        keep_prob:keep_probability\n",
    "    })\n",
    "    pass\n",
    "\n",
    "\n",
    "\"\"\"\n",
    "DON'T MODIFY ANYTHING IN THIS CELL THAT IS BELOW THIS LINE\n",
    "\"\"\"\n",
    "tests.test_train_nn(train_neural_network)"
   ]
  },
  {
   "cell_type": "markdown",
   "metadata": {
    "deletable": true,
    "editable": true
   },
   "source": [
    "### Show Stats\n",
    "Implement the function `print_stats` to print loss and validation accuracy.  Use the global variables `valid_features` and `valid_labels` to calculate validation accuracy.  Use a keep probability of `1.0` to calculate the loss and validation accuracy."
   ]
  },
  {
   "cell_type": "code",
   "execution_count": 14,
   "metadata": {
    "collapsed": false,
    "deletable": true,
    "editable": true
   },
   "outputs": [],
   "source": [
    "def print_stats(session, feature_batch, label_batch, cost, accuracy):\n",
    "    \"\"\"\n",
    "    Print information about loss and validation accuracy\n",
    "    : session: Current TensorFlow session\n",
    "    : feature_batch: Batch of Numpy image data\n",
    "    : label_batch: Batch of Numpy label data\n",
    "    : cost: TensorFlow cost function\n",
    "    : accuracy: TensorFlow accuracy function\n",
    "    \"\"\"\n",
    "    # TODO: Implement Function\n",
    "    loss = session.run(cost, feed_dict={\n",
    "        x:feature_batch,\n",
    "        y:label_batch,\n",
    "        keep_prob : 1.0\n",
    "    })\n",
    "    valid_acc = session.run(accuracy, feed_dict={\n",
    "        x:valid_features,\n",
    "        y:valid_labels,\n",
    "        keep_prob : 1.0\n",
    "    })\n",
    "    print (\"loss = \" ,loss)\n",
    "    print (\"acc = \" ,valid_acc)\n",
    "    pass"
   ]
  },
  {
   "cell_type": "markdown",
   "metadata": {
    "deletable": true,
    "editable": true
   },
   "source": [
    "### Hyperparameters\n",
    "Tune the following parameters:\n",
    "* Set `epochs` to the number of iterations until the network stops learning or start overfitting\n",
    "* Set `batch_size` to the highest number that your machine has memory for.  Most people set them to common sizes of memory:\n",
    " * 64\n",
    " * 128\n",
    " * 256\n",
    " * ...\n",
    "* Set `keep_probability` to the probability of keeping a node using dropout"
   ]
  },
  {
   "cell_type": "code",
   "execution_count": 15,
   "metadata": {
    "collapsed": true,
    "deletable": true,
    "editable": true
   },
   "outputs": [],
   "source": [
    "# TODO: Tune Parameters\n",
    "epochs = 30\n",
    "batch_size = 256\n",
    "keep_probability = 0.75"
   ]
  },
  {
   "cell_type": "markdown",
   "metadata": {
    "deletable": true,
    "editable": true
   },
   "source": [
    "### Train on a Single CIFAR-10 Batch\n",
    "Instead of training the neural network on all the CIFAR-10 batches of data, let's use a single batch. This should save time while you iterate on the model to get a better accuracy.  Once the final validation accuracy is 50% or greater, run the model on all the data in the next section."
   ]
  },
  {
   "cell_type": "code",
   "execution_count": 16,
   "metadata": {
    "collapsed": false,
    "deletable": true,
    "editable": true
   },
   "outputs": [
    {
     "name": "stdout",
     "output_type": "stream",
     "text": [
      "Checking the Training on a Single Batch...\n",
      "Epoch  1, CIFAR-10 Batch 1:  loss =  2.27658\n",
      "acc =  0.159\n",
      "Epoch  2, CIFAR-10 Batch 1:  loss =  2.21178\n",
      "acc =  0.169\n",
      "Epoch  3, CIFAR-10 Batch 1:  loss =  2.25219\n",
      "acc =  0.2122\n",
      "Epoch  4, CIFAR-10 Batch 1:  loss =  2.16378\n",
      "acc =  0.2714\n",
      "Epoch  5, CIFAR-10 Batch 1:  loss =  2.07854\n",
      "acc =  0.3054\n",
      "Epoch  6, CIFAR-10 Batch 1:  loss =  1.97299\n",
      "acc =  0.3338\n",
      "Epoch  7, CIFAR-10 Batch 1:  loss =  1.91664\n",
      "acc =  0.349\n",
      "Epoch  8, CIFAR-10 Batch 1:  loss =  1.86767\n",
      "acc =  0.3604\n",
      "Epoch  9, CIFAR-10 Batch 1:  loss =  1.80329\n",
      "acc =  0.3656\n",
      "Epoch 10, CIFAR-10 Batch 1:  loss =  1.79627\n",
      "acc =  0.352\n",
      "Epoch 11, CIFAR-10 Batch 1:  loss =  1.68851\n",
      "acc =  0.3792\n",
      "Epoch 12, CIFAR-10 Batch 1:  loss =  1.61265\n",
      "acc =  0.3714\n",
      "Epoch 13, CIFAR-10 Batch 1:  loss =  1.51205\n",
      "acc =  0.3966\n",
      "Epoch 14, CIFAR-10 Batch 1:  loss =  1.51189\n",
      "acc =  0.3798\n",
      "Epoch 15, CIFAR-10 Batch 1:  loss =  1.39097\n",
      "acc =  0.4236\n",
      "Epoch 16, CIFAR-10 Batch 1:  loss =  1.33137\n",
      "acc =  0.4258\n",
      "Epoch 17, CIFAR-10 Batch 1:  loss =  1.2679\n",
      "acc =  0.4306\n",
      "Epoch 18, CIFAR-10 Batch 1:  loss =  1.28243\n",
      "acc =  0.4258\n",
      "Epoch 19, CIFAR-10 Batch 1:  loss =  1.15864\n",
      "acc =  0.4584\n",
      "Epoch 20, CIFAR-10 Batch 1:  loss =  1.18316\n",
      "acc =  0.4274\n",
      "Epoch 21, CIFAR-10 Batch 1:  loss =  1.08384\n",
      "acc =  0.4622\n",
      "Epoch 22, CIFAR-10 Batch 1:  loss =  1.03978\n",
      "acc =  0.4714\n",
      "Epoch 23, CIFAR-10 Batch 1:  loss =  0.997489\n",
      "acc =  0.472\n",
      "Epoch 24, CIFAR-10 Batch 1:  loss =  0.962348\n",
      "acc =  0.4816\n",
      "Epoch 25, CIFAR-10 Batch 1:  loss =  0.970754\n",
      "acc =  0.4586\n",
      "Epoch 26, CIFAR-10 Batch 1:  loss =  0.948846\n",
      "acc =  0.4894\n",
      "Epoch 27, CIFAR-10 Batch 1:  loss =  0.851988\n",
      "acc =  0.4928\n",
      "Epoch 28, CIFAR-10 Batch 1:  loss =  0.792434\n",
      "acc =  0.4892\n",
      "Epoch 29, CIFAR-10 Batch 1:  loss =  0.815745\n",
      "acc =  0.4872\n",
      "Epoch 30, CIFAR-10 Batch 1:  loss =  0.793316\n",
      "acc =  0.5002\n"
     ]
    }
   ],
   "source": [
    "\"\"\"\n",
    "DON'T MODIFY ANYTHING IN THIS CELL\n",
    "\"\"\"\n",
    "print('Checking the Training on a Single Batch...')\n",
    "with tf.Session() as sess:\n",
    "    # Initializing the variables\n",
    "    sess.run(tf.global_variables_initializer())\n",
    "    \n",
    "    # Training cycle\n",
    "    for epoch in range(epochs):\n",
    "        batch_i = 1\n",
    "        for batch_features, batch_labels in helper.load_preprocess_training_batch(batch_i, batch_size):\n",
    "            train_neural_network(sess, optimizer, keep_probability, batch_features, batch_labels)\n",
    "        print('Epoch {:>2}, CIFAR-10 Batch {}:  '.format(epoch + 1, batch_i), end='')\n",
    "        print_stats(sess, batch_features, batch_labels, cost, accuracy)"
   ]
  },
  {
   "cell_type": "markdown",
   "metadata": {
    "deletable": true,
    "editable": true
   },
   "source": [
    "### Fully Train the Model\n",
    "Now that you got a good accuracy with a single CIFAR-10 batch, try it with all five batches."
   ]
  },
  {
   "cell_type": "code",
   "execution_count": 18,
   "metadata": {
    "collapsed": false,
    "deletable": true,
    "editable": true
   },
   "outputs": [
    {
     "name": "stdout",
     "output_type": "stream",
     "text": [
      "Training...\n",
      "Epoch  1, CIFAR-10 Batch 1:  loss =  2.27409\n",
      "acc =  0.1462\n",
      "Epoch  1, CIFAR-10 Batch 2:  loss =  2.02452\n",
      "acc =  0.1526\n",
      "Epoch  1, CIFAR-10 Batch 3:  loss =  1.79663\n",
      "acc =  0.2384\n",
      "Epoch  1, CIFAR-10 Batch 4:  loss =  1.92148\n",
      "acc =  0.2524\n",
      "Epoch  1, CIFAR-10 Batch 5:  loss =  1.9084\n",
      "acc =  0.2494\n",
      "Epoch  2, CIFAR-10 Batch 1:  loss =  2.07315\n",
      "acc =  0.2628\n",
      "Epoch  2, CIFAR-10 Batch 2:  loss =  1.89281\n",
      "acc =  0.2872\n",
      "Epoch  2, CIFAR-10 Batch 3:  loss =  1.61794\n",
      "acc =  0.2732\n",
      "Epoch  2, CIFAR-10 Batch 4:  loss =  1.71481\n",
      "acc =  0.3316\n",
      "Epoch  2, CIFAR-10 Batch 5:  loss =  1.71626\n",
      "acc =  0.3198\n",
      "Epoch  3, CIFAR-10 Batch 1:  loss =  1.98264\n",
      "acc =  0.3366\n",
      "Epoch  3, CIFAR-10 Batch 2:  loss =  1.75802\n",
      "acc =  0.3582\n",
      "Epoch  3, CIFAR-10 Batch 3:  loss =  1.41635\n",
      "acc =  0.337\n",
      "Epoch  3, CIFAR-10 Batch 4:  loss =  1.63222\n",
      "acc =  0.3922\n",
      "Epoch  3, CIFAR-10 Batch 5:  loss =  1.5785\n",
      "acc =  0.3996\n",
      "Epoch  4, CIFAR-10 Batch 1:  loss =  1.75326\n",
      "acc =  0.4216\n",
      "Epoch  4, CIFAR-10 Batch 2:  loss =  1.62556\n",
      "acc =  0.4066\n",
      "Epoch  4, CIFAR-10 Batch 3:  loss =  1.20695\n",
      "acc =  0.401\n",
      "Epoch  4, CIFAR-10 Batch 4:  loss =  1.52701\n",
      "acc =  0.4394\n",
      "Epoch  4, CIFAR-10 Batch 5:  loss =  1.46915\n",
      "acc =  0.4302\n",
      "Epoch  5, CIFAR-10 Batch 1:  loss =  1.56888\n",
      "acc =  0.4662\n",
      "Epoch  5, CIFAR-10 Batch 2:  loss =  1.49765\n",
      "acc =  0.436\n",
      "Epoch  5, CIFAR-10 Batch 3:  loss =  1.14967\n",
      "acc =  0.4678\n",
      "Epoch  5, CIFAR-10 Batch 4:  loss =  1.51018\n",
      "acc =  0.4672\n",
      "Epoch  5, CIFAR-10 Batch 5:  loss =  1.39137\n",
      "acc =  0.4588\n",
      "Epoch  6, CIFAR-10 Batch 1:  loss =  1.42066\n",
      "acc =  0.4732\n",
      "Epoch  6, CIFAR-10 Batch 2:  loss =  1.43559\n",
      "acc =  0.4944\n",
      "Epoch  6, CIFAR-10 Batch 3:  loss =  1.14346\n",
      "acc =  0.4916\n",
      "Epoch  6, CIFAR-10 Batch 4:  loss =  1.45492\n",
      "acc =  0.4902\n",
      "Epoch  6, CIFAR-10 Batch 5:  loss =  1.29736\n",
      "acc =  0.4976\n",
      "Epoch  7, CIFAR-10 Batch 1:  loss =  1.29512\n",
      "acc =  0.4926\n",
      "Epoch  7, CIFAR-10 Batch 2:  loss =  1.35767\n",
      "acc =  0.4982\n",
      "Epoch  7, CIFAR-10 Batch 3:  loss =  1.06449\n",
      "acc =  0.5168\n",
      "Epoch  7, CIFAR-10 Batch 4:  loss =  1.33808\n",
      "acc =  0.5212\n",
      "Epoch  7, CIFAR-10 Batch 5:  loss =  1.16509\n",
      "acc =  0.5302\n",
      "Epoch  8, CIFAR-10 Batch 1:  loss =  1.23918\n",
      "acc =  0.522\n",
      "Epoch  8, CIFAR-10 Batch 2:  loss =  1.34828\n",
      "acc =  0.5096\n",
      "Epoch  8, CIFAR-10 Batch 3:  loss =  1.10839\n",
      "acc =  0.54\n",
      "Epoch  8, CIFAR-10 Batch 4:  loss =  1.27705\n",
      "acc =  0.532\n",
      "Epoch  8, CIFAR-10 Batch 5:  loss =  1.12611\n",
      "acc =  0.5472\n",
      "Epoch  9, CIFAR-10 Batch 1:  loss =  1.12718\n",
      "acc =  0.5276\n",
      "Epoch  9, CIFAR-10 Batch 2:  loss =  1.14511\n",
      "acc =  0.5408\n",
      "Epoch  9, CIFAR-10 Batch 3:  loss =  0.983283\n",
      "acc =  0.5376\n",
      "Epoch  9, CIFAR-10 Batch 4:  loss =  1.11922\n",
      "acc =  0.5498\n",
      "Epoch  9, CIFAR-10 Batch 5:  loss =  1.07743\n",
      "acc =  0.5546\n",
      "Epoch 10, CIFAR-10 Batch 1:  loss =  1.03474\n",
      "acc =  0.535\n",
      "Epoch 10, CIFAR-10 Batch 2:  loss =  1.06516\n",
      "acc =  0.562\n",
      "Epoch 10, CIFAR-10 Batch 3:  loss =  0.828931\n",
      "acc =  0.562\n",
      "Epoch 10, CIFAR-10 Batch 4:  loss =  1.00775\n",
      "acc =  0.5656\n",
      "Epoch 10, CIFAR-10 Batch 5:  loss =  0.97707\n",
      "acc =  0.5586\n",
      "Epoch 11, CIFAR-10 Batch 1:  loss =  0.903633\n",
      "acc =  0.5534\n",
      "Epoch 11, CIFAR-10 Batch 2:  loss =  1.02387\n",
      "acc =  0.5726\n",
      "Epoch 11, CIFAR-10 Batch 3:  loss =  0.864505\n",
      "acc =  0.5638\n",
      "Epoch 11, CIFAR-10 Batch 4:  loss =  0.927279\n",
      "acc =  0.5756\n",
      "Epoch 11, CIFAR-10 Batch 5:  loss =  0.904183\n",
      "acc =  0.5686\n",
      "Epoch 12, CIFAR-10 Batch 1:  loss =  0.829134\n",
      "acc =  0.5676\n",
      "Epoch 12, CIFAR-10 Batch 2:  loss =  0.909325\n",
      "acc =  0.5742\n",
      "Epoch 12, CIFAR-10 Batch 3:  loss =  0.806422\n",
      "acc =  0.5688\n",
      "Epoch 12, CIFAR-10 Batch 4:  loss =  0.831961\n",
      "acc =  0.5914\n",
      "Epoch 12, CIFAR-10 Batch 5:  loss =  0.838144\n",
      "acc =  0.5956\n",
      "Epoch 13, CIFAR-10 Batch 1:  loss =  0.763095\n",
      "acc =  0.5734\n",
      "Epoch 13, CIFAR-10 Batch 2:  loss =  0.850847\n",
      "acc =  0.592\n",
      "Epoch 13, CIFAR-10 Batch 3:  loss =  0.722248\n",
      "acc =  0.5886\n",
      "Epoch 13, CIFAR-10 Batch 4:  loss =  0.727276\n",
      "acc =  0.5928\n",
      "Epoch 13, CIFAR-10 Batch 5:  loss =  0.779662\n",
      "acc =  0.5878\n",
      "Epoch 14, CIFAR-10 Batch 1:  loss =  0.748867\n",
      "acc =  0.559\n",
      "Epoch 14, CIFAR-10 Batch 2:  loss =  0.825881\n",
      "acc =  0.5888\n",
      "Epoch 14, CIFAR-10 Batch 3:  loss =  0.688891\n",
      "acc =  0.5948\n",
      "Epoch 14, CIFAR-10 Batch 4:  loss =  0.719066\n",
      "acc =  0.6024\n",
      "Epoch 14, CIFAR-10 Batch 5:  loss =  0.739419\n",
      "acc =  0.5984\n",
      "Epoch 15, CIFAR-10 Batch 1:  loss =  0.729328\n",
      "acc =  0.5596\n",
      "Epoch 15, CIFAR-10 Batch 2:  loss =  0.716493\n",
      "acc =  0.5968\n",
      "Epoch 15, CIFAR-10 Batch 3:  loss =  0.649146\n",
      "acc =  0.5978\n",
      "Epoch 15, CIFAR-10 Batch 4:  loss =  0.654492\n",
      "acc =  0.6092\n",
      "Epoch 15, CIFAR-10 Batch 5:  loss =  0.66473\n",
      "acc =  0.5932\n",
      "Epoch 16, CIFAR-10 Batch 1:  loss =  0.750764\n",
      "acc =  0.55\n",
      "Epoch 16, CIFAR-10 Batch 2:  loss =  0.687977\n",
      "acc =  0.6112\n",
      "Epoch 16, CIFAR-10 Batch 3:  loss =  0.604774\n",
      "acc =  0.6066\n",
      "Epoch 16, CIFAR-10 Batch 4:  loss =  0.627183\n",
      "acc =  0.6136\n",
      "Epoch 16, CIFAR-10 Batch 5:  loss =  0.60519\n",
      "acc =  0.6056\n",
      "Epoch 17, CIFAR-10 Batch 1:  loss =  0.697699\n",
      "acc =  0.573\n",
      "Epoch 17, CIFAR-10 Batch 2:  loss =  0.666791\n",
      "acc =  0.5934\n",
      "Epoch 17, CIFAR-10 Batch 3:  loss =  0.560835\n",
      "acc =  0.6182\n",
      "Epoch 17, CIFAR-10 Batch 4:  loss =  0.587016\n",
      "acc =  0.619\n",
      "Epoch 17, CIFAR-10 Batch 5:  loss =  0.6052\n",
      "acc =  0.6102\n",
      "Epoch 18, CIFAR-10 Batch 1:  loss =  0.633941\n",
      "acc =  0.5874\n",
      "Epoch 18, CIFAR-10 Batch 2:  loss =  0.624599\n",
      "acc =  0.6124\n",
      "Epoch 18, CIFAR-10 Batch 3:  loss =  0.584153\n",
      "acc =  0.6054\n",
      "Epoch 18, CIFAR-10 Batch 4:  loss =  0.51906\n",
      "acc =  0.6198\n",
      "Epoch 18, CIFAR-10 Batch 5:  loss =  0.536462\n",
      "acc =  0.607\n",
      "Epoch 19, CIFAR-10 Batch 1:  loss =  0.674351\n",
      "acc =  0.5736\n",
      "Epoch 19, CIFAR-10 Batch 2:  loss =  0.63895\n",
      "acc =  0.608\n",
      "Epoch 19, CIFAR-10 Batch 3:  loss =  0.513097\n",
      "acc =  0.6214\n",
      "Epoch 19, CIFAR-10 Batch 4:  loss =  0.550015\n",
      "acc =  0.6144\n",
      "Epoch 19, CIFAR-10 Batch 5:  loss =  0.491883\n",
      "acc =  0.6084\n",
      "Epoch 20, CIFAR-10 Batch 1:  loss =  0.592287\n",
      "acc =  0.6054\n",
      "Epoch 20, CIFAR-10 Batch 2:  loss =  0.580111\n",
      "acc =  0.6102\n",
      "Epoch 20, CIFAR-10 Batch 3:  loss =  0.482588\n",
      "acc =  0.6122\n",
      "Epoch 20, CIFAR-10 Batch 4:  loss =  0.489504\n",
      "acc =  0.617\n",
      "Epoch 20, CIFAR-10 Batch 5:  loss =  0.452756\n",
      "acc =  0.6196\n",
      "Epoch 21, CIFAR-10 Batch 1:  loss =  0.569715\n",
      "acc =  0.593\n",
      "Epoch 21, CIFAR-10 Batch 2:  loss =  0.592514\n",
      "acc =  0.6164\n",
      "Epoch 21, CIFAR-10 Batch 3:  loss =  0.401584\n",
      "acc =  0.6058\n",
      "Epoch 21, CIFAR-10 Batch 4:  loss =  0.512085\n",
      "acc =  0.6158\n",
      "Epoch 21, CIFAR-10 Batch 5:  loss =  0.428941\n",
      "acc =  0.6198\n",
      "Epoch 22, CIFAR-10 Batch 1:  loss =  0.529195\n",
      "acc =  0.6096\n",
      "Epoch 22, CIFAR-10 Batch 2:  loss =  0.552683\n",
      "acc =  0.6282\n",
      "Epoch 22, CIFAR-10 Batch 3:  loss =  0.419638\n",
      "acc =  0.6176\n",
      "Epoch 22, CIFAR-10 Batch 4:  loss =  0.507096\n",
      "acc =  0.618\n",
      "Epoch 22, CIFAR-10 Batch 5:  loss =  0.401035\n",
      "acc =  0.6244\n",
      "Epoch 23, CIFAR-10 Batch 1:  loss =  0.488844\n",
      "acc =  0.6274\n",
      "Epoch 23, CIFAR-10 Batch 2:  loss =  0.581572\n",
      "acc =  0.6216\n",
      "Epoch 23, CIFAR-10 Batch 3:  loss =  0.47458\n",
      "acc =  0.5854\n",
      "Epoch 23, CIFAR-10 Batch 4:  loss =  0.482078\n",
      "acc =  0.6222\n",
      "Epoch 23, CIFAR-10 Batch 5:  loss =  0.368145\n",
      "acc =  0.6196\n",
      "Epoch 24, CIFAR-10 Batch 1:  loss =  0.471798\n",
      "acc =  0.625\n",
      "Epoch 24, CIFAR-10 Batch 2:  loss =  0.516375\n",
      "acc =  0.634\n",
      "Epoch 24, CIFAR-10 Batch 3:  loss =  0.387469\n",
      "acc =  0.605\n",
      "Epoch 24, CIFAR-10 Batch 4:  loss =  0.489113\n",
      "acc =  0.6198\n",
      "Epoch 24, CIFAR-10 Batch 5:  loss =  0.397721\n",
      "acc =  0.6104\n",
      "Epoch 25, CIFAR-10 Batch 1:  loss =  0.454814\n",
      "acc =  0.6194\n",
      "Epoch 25, CIFAR-10 Batch 2:  loss =  0.428895\n",
      "acc =  0.612\n",
      "Epoch 25, CIFAR-10 Batch 3:  loss =  0.420161\n",
      "acc =  0.5908\n",
      "Epoch 25, CIFAR-10 Batch 4:  loss =  0.438957\n",
      "acc =  0.626\n",
      "Epoch 25, CIFAR-10 Batch 5:  loss =  0.356467\n",
      "acc =  0.6084\n",
      "Epoch 26, CIFAR-10 Batch 1:  loss =  0.464244\n",
      "acc =  0.6238\n",
      "Epoch 26, CIFAR-10 Batch 2:  loss =  0.467261\n",
      "acc =  0.5916\n",
      "Epoch 26, CIFAR-10 Batch 3:  loss =  0.341331\n",
      "acc =  0.6144\n",
      "Epoch 26, CIFAR-10 Batch 4:  loss =  0.441697\n",
      "acc =  0.6292\n",
      "Epoch 26, CIFAR-10 Batch 5:  loss =  0.34252\n",
      "acc =  0.6066\n",
      "Epoch 27, CIFAR-10 Batch 1:  loss =  0.441733\n",
      "acc =  0.6284\n",
      "Epoch 27, CIFAR-10 Batch 2:  loss =  0.499234\n",
      "acc =  0.61\n",
      "Epoch 27, CIFAR-10 Batch 3:  loss =  0.316921\n",
      "acc =  0.5938\n",
      "Epoch 27, CIFAR-10 Batch 4:  loss =  0.485011\n",
      "acc =  0.6282\n",
      "Epoch 27, CIFAR-10 Batch 5:  loss =  0.324708\n",
      "acc =  0.6118\n",
      "Epoch 28, CIFAR-10 Batch 1:  loss =  0.405127\n",
      "acc =  0.6384\n",
      "Epoch 28, CIFAR-10 Batch 2:  loss =  0.452177\n",
      "acc =  0.6028\n",
      "Epoch 28, CIFAR-10 Batch 3:  loss =  0.295875\n",
      "acc =  0.6144\n",
      "Epoch 28, CIFAR-10 Batch 4:  loss =  0.437994\n",
      "acc =  0.6342\n",
      "Epoch 28, CIFAR-10 Batch 5:  loss =  0.331674\n",
      "acc =  0.6114\n",
      "Epoch 29, CIFAR-10 Batch 1:  loss =  0.402246\n",
      "acc =  0.639\n",
      "Epoch 29, CIFAR-10 Batch 2:  loss =  0.442652\n",
      "acc =  0.597\n",
      "Epoch 29, CIFAR-10 Batch 3:  loss =  0.256437\n",
      "acc =  0.623\n",
      "Epoch 29, CIFAR-10 Batch 4:  loss =  0.360198\n",
      "acc =  0.633\n",
      "Epoch 29, CIFAR-10 Batch 5:  loss =  0.330352\n",
      "acc =  0.6146\n",
      "Epoch 30, CIFAR-10 Batch 1:  loss =  0.37984\n",
      "acc =  0.6324\n",
      "Epoch 30, CIFAR-10 Batch 2:  loss =  0.369031\n",
      "acc =  0.6176\n",
      "Epoch 30, CIFAR-10 Batch 3:  loss =  0.288585\n",
      "acc =  0.615\n",
      "Epoch 30, CIFAR-10 Batch 4:  loss =  0.363362\n",
      "acc =  0.6364\n",
      "Epoch 30, CIFAR-10 Batch 5:  loss =  0.30931\n",
      "acc =  0.6028\n"
     ]
    }
   ],
   "source": [
    "\"\"\"\n",
    "DON'T MODIFY ANYTHING IN THIS CELL\n",
    "\"\"\"\n",
    "save_model_path = './image_classification'\n",
    "\n",
    "print('Training...')\n",
    "with tf.Session() as sess:\n",
    "    # Initializing the variables\n",
    "    sess.run(tf.global_variables_initializer())\n",
    "    \n",
    "    # Training cycle\n",
    "    for epoch in range(epochs):\n",
    "        # Loop over all batches\n",
    "        n_batches = 5\n",
    "        for batch_i in range(1, n_batches + 1):\n",
    "            for batch_features, batch_labels in helper.load_preprocess_training_batch(batch_i, batch_size):\n",
    "                train_neural_network(sess, optimizer, keep_probability, batch_features, batch_labels)\n",
    "            print('Epoch {:>2}, CIFAR-10 Batch {}:  '.format(epoch + 1, batch_i), end='')\n",
    "            print_stats(sess, batch_features, batch_labels, cost, accuracy)\n",
    "            \n",
    "    # Save Model\n",
    "    saver = tf.train.Saver()\n",
    "    save_path = saver.save(sess, save_model_path)"
   ]
  },
  {
   "cell_type": "markdown",
   "metadata": {
    "deletable": true,
    "editable": true
   },
   "source": [
    "# Checkpoint\n",
    "The model has been saved to disk.\n",
    "## Test Model\n",
    "Test your model against the test dataset.  This will be your final accuracy. You should have an accuracy greater than 50%. If you don't, keep tweaking the model architecture and parameters."
   ]
  },
  {
   "cell_type": "code",
   "execution_count": 19,
   "metadata": {
    "collapsed": false,
    "deletable": true,
    "editable": true
   },
   "outputs": [
    {
     "name": "stdout",
     "output_type": "stream",
     "text": [
      "Testing Accuracy: 0.60283203125\n",
      "\n"
     ]
    },
    {
     "data": {
      "image/png": "[encoded data removed]",
      "text/plain": [
       "<matplotlib.figure.Figure at 0x7fbc94b24780>"
      ]
     },
     "metadata": {
      "image/png": {
       "height": 319,
       "width": 355
      }
     },
     "output_type": "display_data"
    }
   ],
   "source": [
    "\"\"\"\n",
    "DON'T MODIFY ANYTHING IN THIS CELL\n",
    "\"\"\"\n",
    "%matplotlib inline\n",
    "%config InlineBackend.figure_format = 'retina'\n",
    "\n",
    "import tensorflow as tf\n",
    "import pickle\n",
    "import helper\n",
    "import random\n",
    "\n",
    "# Set batch size if not already set\n",
    "try:\n",
    "    if batch_size:\n",
    "        pass\n",
    "except NameError:\n",
    "    batch_size = 64\n",
    "\n",
    "save_model_path = './image_classification'\n",
    "n_samples = 4\n",
    "top_n_predictions = 3\n",
    "\n",
    "def test_model():\n",
    "    \"\"\"\n",
    "    Test the saved model against the test dataset\n",
    "    \"\"\"\n",
    "\n",
    "    test_features, test_labels = pickle.load(open('preprocess_test.p', mode='rb'))\n",
    "    loaded_graph = tf.Graph()\n",
    "\n",
    "    with tf.Session(graph=loaded_graph) as sess:\n",
    "        # Load model\n",
    "        loader = tf.train.import_meta_graph(save_model_path + '.meta')\n",
    "        loader.restore(sess, save_model_path)\n",
    "\n",
    "        # Get Tensors from loaded model\n",
    "        loaded_x = loaded_graph.get_tensor_by_name('x:0')\n",
    "        loaded_y = loaded_graph.get_tensor_by_name('y:0')\n",
    "        loaded_keep_prob = loaded_graph.get_tensor_by_name('keep_prob:0')\n",
    "        loaded_logits = loaded_graph.get_tensor_by_name('logits:0')\n",
    "        loaded_acc = loaded_graph.get_tensor_by_name('accuracy:0')\n",
    "        \n",
    "        # Get accuracy in batches for memory limitations\n",
    "        test_batch_acc_total = 0\n",
    "        test_batch_count = 0\n",
    "        \n",
    "        for test_feature_batch, test_label_batch in helper.batch_features_labels(test_features, test_labels, batch_size):\n",
    "            test_batch_acc_total += sess.run(\n",
    "                loaded_acc,\n",
    "                feed_dict={loaded_x: test_feature_batch, loaded_y: test_label_batch, loaded_keep_prob: 1.0})\n",
    "            test_batch_count += 1\n",
    "\n",
    "        print('Testing Accuracy: {}\\n'.format(test_batch_acc_total/test_batch_count))\n",
    "\n",
    "        # Print Random Samples\n",
    "        random_test_features, random_test_labels = tuple(zip(*random.sample(list(zip(test_features, test_labels)), n_samples)))\n",
    "        random_test_predictions = sess.run(\n",
    "            tf.nn.top_k(tf.nn.softmax(loaded_logits), top_n_predictions),\n",
    "            feed_dict={loaded_x: random_test_features, loaded_y: random_test_labels, loaded_keep_prob: 1.0})\n",
    "        helper.display_image_predictions(random_test_features, random_test_labels, random_test_predictions)\n",
    "\n",
    "\n",
    "test_model()"
   ]
  },
  {
   "cell_type": "markdown",
   "metadata": {
    "deletable": true,
    "editable": true
   },
   "source": [
    "## Why 50-80% Accuracy?\n",
    "You might be wondering why you can't get an accuracy any higher. First things first, 50% isn't bad for a simple CNN.  Pure guessing would get you 10% accuracy. However, you might notice people are getting scores [well above 80%](http://rodrigob.github.io/are_we_there_yet/build/classification_datasets_results.html#43494641522d3130).  That's because we haven't taught you all there is to know about neural networks. We still need to cover a few more techniques.\n",
    "## Submitting This Project\n",
    "When submitting this project, make sure to run all the cells before saving the notebook.  Save the notebook file as \"dlnd_image_classification.ipynb\" and save it as a HTML file under \"File\" -> \"Download as\".  Include the \"helper.py\" and \"problem_unittests.py\" files in your submission."
   ]
  }
 ],
 "metadata": {
  "kernelspec": {
   "display_name": "Python 3",
   "language": "python",
   "name": "python3"
  },
  "language_info": {
   "codemirror_mode": {
    "name": "ipython",
    "version": 3
   },
   "file_extension": ".py",
   "mimetype": "text/x-python",
   "name": "python",
   "nbconvert_exporter": "python",
   "pygments_lexer": "ipython3",
   "version": "3.5.3"
  }
 },
 "nbformat": 4,
 "nbformat_minor": 0
}
